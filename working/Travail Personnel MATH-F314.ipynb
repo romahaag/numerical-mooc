{
 "cells": [
  {
   "cell_type": "markdown",
   "metadata": {},
   "source": [
    "\n",
    "\n",
    "                                    Orbite et Runge Kutta 4\n",
    "\n",
    "\n",
    "\n",
    "Ce rapport a pour but de mettre en oeuvre des méthodes de résolution numérique en particulier Runge Kutta 4. Nous commencerons par déterminer la trajectoire de la lune dans le champ de gravité de la Terre. En faisant le graphe de la trajectoire , nous nous apercevrons de son allure orbitale , nous calculerons alors son excentricité , sa période , ses demis-axes.\n",
    "Nous calculerons ensuite l'ordre de convergence de la méthode utilisée et enfin nous introduirons un troisème corps ; un astéroïde. Nous appliquerons à nouveau la méthode de Runge Kutta 4 pour la trajectoire de celui ci. Pour terminer , nous montrerons une petite animation des différentes trajectoire. \n",
    "\n"
   ]
  },
  {
   "cell_type": "markdown",
   "metadata": {},
   "source": [
    "Commençons.\n",
    "Nous savons que deux objets de masse $m_1$ , $m_2$ subissent une force d'attraction :\n",
    "$$\\overrightarrow{F}_{1,2}=\\frac{-Gm_1m_2\\overrightarrow{r}}{|\\overrightarrow{r}|^3}=\\overrightarrow{F}_{2,1}$$\n",
    "${\\vec r}$ est le vecteur qui relie le centre de $m_2$ à celui de $m_1$\n",
    "Ceci va nous permettre d'écrire nos équations du mouvement.\n",
    "Le vecteur $\\overrightarrow{r}$ sera pour nous la position relative de la lune par rapport à la terre et elle peut s'écrire comme \n",
    "$ (x_{lune}-x_{terre})\\overrightarrow{u}_x+(y_{lune}-y_{terre})\\overrightarrow{u}_y $\n",
    "\n",
    "Nous pouvons donc projeter la force de gravité sur nos axes.\n",
    "$$F_x=\\frac{-Gm_1m_2x}{(x^2+y^2)^{3/2}}$$\n",
    "$$F_y=\\frac{-Gm_1m_2y}{(x^2+y^2)^{3/2}}$$\n",
    "ou $G=6.67408.10^{-11}m^3kg^{-1}s^{-2}$ est la constante de gravitation universelle\n",
    "\n",
    "Continuons , on sait que $\\vec{F}=m\\vec{a}$ , ou $\\vec{a}$ est l'accélération. Elle est par définition égale à la dérivée temporelle seconde de la position , soit $\\ddot{\\vec r}$.\n",
    "Ainsi , en projetant à nouveau nous avons : \n",
    "\n",
    "$$F_x=ma_x=m\\ddot x$$\n",
    "$$F_y=ma_y=m \\ddot y$$\n",
    "\n",
    "Prenons $x=(x_{lune}-x_{terre})$ et $y=(y_{lune}-y_{terre})$. Nous avons dès lors\n",
    "$$ \\ddot x =\\frac{-G(m_T+m_L)x}{(x^2+y^2)^{3/2}}$$\n",
    "$$\\ddot y =\\frac{-G(m_T+m_L)y}{(x^2+y^2)^{3/2}}$$\n",
    "\n",
    "Ou $m_T$ est la masse de la Terre , $5.972.10^{24}kg$ \n",
    "et $m_L$ est la masse de la Lune, $7.348.10^{22}kg$\n",
    "\n",
    "De plus , la vitesse $v$ est donnée par $\\dot r$. ( Et fatalement , $v_x=\\dot x$ et $v_y=\\dot y$ ). Ainsi , \n",
    "\n",
    "$$\\dot v_x = \\frac{-G(m_T+m_L)x}{(x^2+y^2)^{3/2}}$$\n",
    "$$\\dot v_y = \\frac{-G(m_T+m_L)y}{(x^2+y^2)^{3/2}}$$\n",
    "\n",
    "Nous y sommes presque.\n",
    "On définit le vecteur $u =\\begin{pmatrix} x \\\\ y \\\\ v_x \\\\ v_y \\end{pmatrix} $\n",
    "Ainsi , la dérivée de $u$ serra donnée par $u'=\\begin{pmatrix} v_x \\\\ v_y \\\\ \\dot v_x \\\\ \\dot v_y \\end{pmatrix}$ ou de manière plus explicite , $$u'=\\begin{pmatrix} v_x \\\\ v_y \\\\ \\frac{-G(m_T+m_L)x}{(x^2+y^2)^{3/2}} \\\\ \\frac{-G(m_T+m_L)y}{(x^2+y^2)^{3/2}} \\end{pmatrix}$$\n",
    "Le dernier pas qu'il nous faut accomplir est juste de définir $f(\\overrightarrow u)=u'$. Voilà , nous avons tout en main désormais pour résoudre de manière numérique ce problème."
   ]
  },
  {
   "cell_type": "markdown",
   "metadata": {},
   "source": [
    "Nous commençons par importer ce qu'il nous faut , ainsi que poser les conditions initiales."
   ]
  },
  {
   "cell_type": "code",
   "execution_count": 41,
   "metadata": {
    "collapsed": true
   },
   "outputs": [],
   "source": [
    "import numpy\n",
    "from matplotlib import pyplot\n",
    "from matplotlib import rcParams"
   ]
  },
  {
   "cell_type": "code",
   "execution_count": 42,
   "metadata": {
    "collapsed": true
   },
   "outputs": [],
   "source": [
    "# Paramètres du modèle:\n",
    "G = 6.67408*10**-11       #Constante gravitaionnelle, exprimée ici en (m**3)*(kg**-1)*(s**-2)\n",
    "ml = 7.348*10**22         #Masse de la Lune, en kg\n",
    "mt = 5.972*10**24         #Masse de la Terre, en kg\n",
    "\n",
    "\n",
    "# On pose les conditions initiales:\n",
    "x0 = -362600000.\n",
    "y0 = 0.\n",
    "# Les coord. cart. de la posit. initiale choisies arbitrairement, t.q. la distance Terre-Lune à t = 0 soit rmin\n",
    "vx0 = 0.\n",
    "vy0 = 1083.434974\n",
    "\n",
    "# Les vitesse et positions sont exprimées respectivement en m*s**-1 et m."
   ]
  },
  {
   "cell_type": "markdown",
   "metadata": {},
   "source": [
    "1) Résolution numérique des équations différentielles"
   ]
  },
  {
   "cell_type": "markdown",
   "metadata": {},
   "source": [
    "Pour résoudre numériquement nos équations nous allons utiliser la méthode de Runge-Kutta4 donné sur  https://fr.wikipedia.org/wiki/M%C3%A9thodes_de_Runge-Kutta#La_m.C3.A9thode_de_Runge-Kutta_classique_d.27ordre_quatre_.28RK4.29.\n",
    "\n",
    "la méthode est la suivante. Pour un problème tel que $u'=f(u)$ , avec certaines conditions initiales $u(t=0)=u_0$ et un cetain pas d'ittération dt :\n",
    "$$u_{n+1}=u_n + \\frac{dt}{6}(k_1+2(k_2+k_3)+k_4)$$\n",
    "Nous définissions $k_1$ , $k_2$ , $k_3$ , $k_4$ comme suit : \n",
    "\\begin{equation}\n",
    "k_1=f(u_n) \\\\\n",
    "k_2=f(u_n+\\frac{dt}{2}k_1) \\\\\n",
    "k_3=f(u_n+\\frac{dt}{2}k_2) \\\\\n",
    "k_4=f(u_n+u_n+dt.k_3)\n",
    "\\end{equation}\n",
    "\n",
    "Dans la cellule de code ci dessous , nous écrivons notre fonction $f(\\overrightarrow u)$"
   ]
  },
  {
   "cell_type": "code",
   "execution_count": 43,
   "metadata": {
    "collapsed": true
   },
   "outputs": [],
   "source": [
    "def f(u):\n",
    "    x = u[0]\n",
    "    y = u[1]\n",
    "    vx = u[2]\n",
    "    vy = u[3]     \n",
    "    return numpy.array([vx, vy, -G*(mt+ml)*x/((x**2+y**2)**(3/2)), -G*(mt+ml)*y/((x**2+y**2)**(3/2))])\n",
    "    \n",
    " "
   ]
  },
  {
   "cell_type": "markdown",
   "metadata": {},
   "source": [
    "Nous allons maintenant créer notre fonction Runge-Kutta4"
   ]
  },
  {
   "cell_type": "code",
   "execution_count": 44,
   "metadata": {
    "collapsed": true
   },
   "outputs": [],
   "source": [
    "def rk4(u,f,dt):\n",
    "    \n",
    "        k1 = f(u)\n",
    "        k2 = f(u+((dt/2)*k1))\n",
    "        k3 = f(u+((dt/2)*k2))\n",
    "        k4 = f(u+(dt*k3))\n",
    "        u_f = u + ((dt/6)*(k1 + (2*k2) + (2*k3) + k4))\n",
    "        \n",
    "        return u_f\n",
    "    \n",
    "#L'algorithme pour Runge-Kutta d'ordre 4.\n"
   ]
  },
  {
   "cell_type": "markdown",
   "metadata": {},
   "source": [
    "Nous avons notre fonction $f$ , nous avons notre fonction Runge-Kutta4. Il ne nous reste plus qu'à implémenter un algorithme pour trouver une solution."
   ]
  },
  {
   "cell_type": "code",
   "execution_count": 45,
   "metadata": {
    "collapsed": true
   },
   "outputs": [],
   "source": [
    "T = 2462400.     #Longueur de notre grille de temps (en s),\n",
    "                 #choisie t.q. T > Période de révolution de la Lune autour de la Terre (~ 27 jours)\n",
    "dt = 1           #Incrément de temps\n",
    "N = int(T/dt) + 1     #Nombre de points tn dans la grille de temps T, tels que tn et tn+1 sont espacés de dt.\n",
    "u = numpy.array([x0,y0,vx0,vy0])\n",
    "x = numpy.zeros(N)\n",
    "y = numpy.zeros(N)\n",
    "vx = numpy.zeros(N)\n",
    "vy = numpy.zeros(N)\n",
    "\n",
    "for n in range(0,N):\n",
    "    u = rk4(u,f,dt)\n",
    "    x[n] = u[0]\n",
    "    y[n] = u[1]\n",
    "    vx[n] = u[2]\n",
    "    vy[n] = u[3]\n",
    "    \n",
    "# Il s'agit d'une boucle appliquant N+1 fois RK4 sur la variable locale u,\n",
    "# qui est un 4-vecteur contenant les 2 coordonnées de position et les 2 coordonnées de vitesse de la Lune.\n",
    "# A la nième itération de RK4, chaque composante de u est gardée en mémoire dans la nième composante\n",
    "# d'un N+1-vecteur x, y, vx ou vy. En particulier, on obtient donc à la fin\n",
    "# les N+1 coordonées de positions x et y pour toute la trajectoire, contenues dans les vecteurs x et y resp."
   ]
  },
  {
   "cell_type": "markdown",
   "metadata": {},
   "source": [
    "Notre boucle applique $ N+1$ fois RK4 sur la variable locale $u$. $u$ est un vecteur qui contient les 2 coordonnées de positions et  vitesses relatives Terre-Lune. Nous lui  Nous créons des vecteurs $x$ , $y$ , $v_x$ et $v_y$ pôur qu'a la ième itération les composantes de $u$ soient chaque fois stockée à la ième place dans les vecteurs  $x$ , $y$ , $v_x$ et $v_y$. Nous aurons donc à la fin des matrices $x$ et $y$ qui contiennent les positions espacées chaque fois d'un temps $dt$"
   ]
  },
  {
   "cell_type": "code",
   "execution_count": 46,
   "metadata": {},
   "outputs": [
    {
     "data": {
      "image/png": "[encoded data removed]",
      "text/plain": [
       "<matplotlib.figure.Figure at 0x1d3934b5860>"
      ]
     },
     "metadata": {},
     "output_type": "display_data"
    },
    {
     "data": {
      "image/png": "[encoded data removed]",
      "text/plain": [
       "<matplotlib.figure.Figure at 0x1d38a6a6d30>"
      ]
     },
     "metadata": {},
     "output_type": "display_data"
    },
    {
     "data": {
      "image/png": "[encoded data removed]",
      "text/plain": [
       "<matplotlib.figure.Figure at 0x1d38a129f28>"
      ]
     },
     "metadata": {},
     "output_type": "display_data"
    },
    {
     "data": {
      "image/png": "[encoded data removed]",
      "text/plain": [
       "<matplotlib.figure.Figure at 0x1d38f4f6c88>"
      ]
     },
     "metadata": {},
     "output_type": "display_data"
    }
   ],
   "source": [
    "pyplot.figure(figsize=(10,10))     #On définit la taille du 'plot'\n",
    "pyplot.xlim(-500000000,500000000)\n",
    "pyplot.ylim(-500000000,500000000)\n",
    "pyplot.tick_params(axis='both', labelsize=14)\n",
    "pyplot.xlabel('x', fontsize=14)\n",
    "pyplot.ylabel('y', fontsize=14)\n",
    "pyplot.plot(x,y, 'k-');\n",
    "pyplot.show()\n",
    "\n",
    "#Les limites des axes x et y sont choisies telles que\n",
    "# tous les points puissent être représentés sur la figure."
   ]
  },
  {
   "cell_type": "markdown",
   "metadata": {},
   "source": [
    "Nous obtenons, comme nous nous y attendions, une trajectoire elliptique. Celle-ci ressemble à un\n",
    "cercle, ce qui peut nous rassurer compte tenu de la valeur fournie pour l’excentricité. En effet, celle-\n",
    "ci vaut 0.0549000295618 et est donc très proche de 0, la valeur de l’excentricité du cercle. Nous aurons l'occasion de le revérifier un peu plus bas"
   ]
  },
  {
   "cell_type": "markdown",
   "metadata": {},
   "source": [
    "Nous calclulons ci dessous , la matrice des rayons pour tout nos temps. Elle nous sera utile plus tard."
   ]
  },
  {
   "cell_type": "code",
   "execution_count": 48,
   "metadata": {
    "collapsed": true
   },
   "outputs": [],
   "source": [
    "ra=numpy.zeros(N)\n",
    "\n",
    "def r(x,y):\n",
    "    return (x**2+y**2)**0.5\n",
    "\n",
    "#Fonction qui à chaque point du plan OXY associe la distancede celui-ci à l'origine.\n",
    "\n",
    "for n in range(0,N):\n",
    "    ra[n]=r(x[n],y[n])\n",
    "\n",
    "#Nous formons un N+1-vecteur ra, contenant la distance à l'origine de tous les points de la trajectoire."
   ]
  },
  {
   "cell_type": "code",
   "execution_count": 49,
   "metadata": {},
   "outputs": [],
   "source": [
    "import statistics \n",
    "from statistics import mean"
   ]
  },
  {
   "cell_type": "code",
   "execution_count": 50,
   "metadata": {},
   "outputs": [],
   "source": [
    "rmin = 362600000."
   ]
  },
  {
   "cell_type": "code",
   "execution_count": 51,
   "metadata": {
    "collapsed": true
   },
   "outputs": [],
   "source": [
    "#Question 2\n"
   ]
  },
  {
   "cell_type": "markdown",
   "metadata": {},
   "source": [
    "Nous calculerons l’excentricité de l’ellipse formée par la trajectoire, en nous servant des valeurs des\n",
    "demi-petit axe et demi-grand axe. Pour commencer, nous devons donc calculer ceux-ci. Remarquons\n",
    "que, le système d’axes étant choisi tel que le segment reliant l’origine au périgée de l’orbite est\n",
    "aligné sur l’axe OX, les demi-axes doivent être alignés sur les axes du repère. Il suffit donc de calculer,\n",
    "parmi tous les points de la trajectoire, l’écart maximal entre les coordonnées x de deux points, de\n",
    "répéter l’opération pour les coordonnées y, puis de comparer les deux valeurs obtenues. La plus\n",
    "grande sera la valeur du demi-grand axe, tandis que la plus petite sera la valeur du demi-petit axe.\n",
    "Par ce raisonnement nous obtenons que le demi-grand axe est aligné sur l’axe OX."
   ]
  },
  {
   "cell_type": "code",
   "execution_count": 52,
   "metadata": {
    "collapsed": true
   },
   "outputs": [],
   "source": [
    "#Demi-petit axe:\n",
    "\n",
    "b = (max(y)-min(y))/2\n",
    "\n",
    "#Demi-grand axe:\n",
    " \n",
    "a = (max(x)-min(x))/2"
   ]
  },
  {
   "cell_type": "markdown",
   "metadata": {},
   "source": [
    "Une fois calculées les valeurs des demi-axes de l’ellipse, le calcul de l’excentricité est direct, et se fait\n",
    "en utilisant la formule (formule wiki) : \n",
    "$$e=\\sqrt{1-\\frac{b^2}{a^2}}$$\n",
    "\n",
    "https://fr.wikipedia.org/wiki/Ellipse_(math%C3%A9matiques)\n",
    "\n",
    "Les valeurs obtenues sont très proches des valeurs mesurées, trouvées dans le lien ci-dessous:\n",
    "https://www.le-systeme-solaire.net/lune.html\n",
    "La valeur obtenue est proche de la valeur moyenne mesurée ~ 0,0549, trouvée sur le lien suivant:\n",
    "https://fr.wikipedia.org/wiki/Orbite_de_la_Lune"
   ]
  },
  {
   "cell_type": "code",
   "execution_count": 53,
   "metadata": {},
   "outputs": [
    {
     "name": "stdout",
     "output_type": "stream",
     "text": [
      "0.0549000295618\n"
     ]
    }
   ],
   "source": [
    "#Second calcul pour la valeur de l'excentricité:\n",
    "\n",
    "e = numpy.sqrt(1 - (b**2/a**2))\n",
    "print(e)"
   ]
  },
  {
   "cell_type": "code",
   "execution_count": 54,
   "metadata": {
    "collapsed": true
   },
   "outputs": [],
   "source": [
    "\n",
    "\n",
    "#Question 3\n",
    "\n",
    "\n"
   ]
  },
  {
   "cell_type": "markdown",
   "metadata": {},
   "source": [
    "La période de révolution lunaire est données par la formulation newtonienne de la troisième Loi de\n",
    "kepler, qui est (formule wikki) : \n",
    "$$\\tau=\\sqrt{\\frac{4a^3\\pi^2}{G(m_T+m_L)}}$$\n",
    "https://fr.wikipedia.org/wiki/Lois_de_Kepler\n",
    "À nouveau la valeur calculée numériquement est proche de la valeur expérimentale, qui est de\n",
    "27.3220 (jours) x 86400 (s/jours) = 2 360 620.8 s , voir le lien ci-dessous :\n",
    "https://www.le-systeme- solaire.net/lune.html"
   ]
  },
  {
   "cell_type": "code",
   "execution_count": 100,
   "metadata": {},
   "outputs": [
    {
     "name": "stdout",
     "output_type": "stream",
     "text": [
      "2350681.801961972\n"
     ]
    }
   ],
   "source": [
    "#Période orbitale:\n",
    "\n",
    "from math import sqrt\n",
    "from math import pi\n",
    "\n",
    "Tau=sqrt((4*a**3*pi**2)/(G*(mt+ml)))    #Période de révolution obtenue en s.\n",
    "print(Tau)"
   ]
  },
  {
   "cell_type": "code",
   "execution_count": 56,
   "metadata": {
    "collapsed": true
   },
   "outputs": [],
   "source": [
    "\n",
    "\n",
    "\n",
    "#Question 4\n",
    "\n",
    "\n"
   ]
  },
  {
   "cell_type": "code",
   "execution_count": 57,
   "metadata": {
    "collapsed": true
   },
   "outputs": [],
   "source": [
    "from math import ceil\n",
    "from math import fabs\n",
    "from numpy import shape"
   ]
  },
  {
   "cell_type": "markdown",
   "metadata": {},
   "source": [
    "Nous voulons ici calculer l'ordre de convergence de la méthode. \n",
    "Nous allons donc comparer des solutions avec des pas différents. Fatalement ces solutions auront des matrices de taille différente. Mais cela n'est pas un problème , nous pouvons effectuer un ratio en faisant un quotient du nombre d'élements dans chaque matrice-solution pour pouvoir les comparer. "
   ]
  },
  {
   "cell_type": "code",
   "execution_count": 58,
   "metadata": {
    "collapsed": true
   },
   "outputs": [],
   "source": [
    "def get_diffgrid(u1,u2,dt): \n",
    "    \n",
    "    N_modele=len(u1[:,0])\n",
    "    N_obtenu=len(u2[:,0])\n",
    "    ration=ceil(N_modele/N_obtenu)     # Plus petit entier supérieur au ratio du nombre de points formant\n",
    "                                       # la trajectoire idéale et du nombre de points formant \n",
    "                                       # une trajectoire de résolution inférieure.\n",
    "    \n",
    "    ua=u1[1]\n",
    "    ub=u2[1]\n",
    "    uc=ua[::ration]                    # On crée un nouveau vecteur contenant la seconde composante de\n",
    "                                       # chaque ligne de u1 dont l'indice est un multiple entier du ratio.\n",
    "                                       # Ceci permet de pouvoir travailler avec 2 vecteurs\n",
    "                                       # de tailles identiques.\n",
    "    \n",
    "    diff=dt*abs(numpy.sum(ub-uc))\n",
    "    return diff\n"
   ]
  },
  {
   "cell_type": "code",
   "execution_count": 104,
   "metadata": {},
   "outputs": [
    {
     "name": "stdout",
     "output_type": "stream",
     "text": [
      "2.000061287096825\n"
     ]
    }
   ],
   "source": [
    "from math import log\n",
    "r=2\n",
    "dt1=10\n",
    "\n",
    "dt1_valeur=numpy.array([dt1,dt1*r,dt1*r**2])\n",
    "\n",
    "diffgrid2 = numpy.empty(2)\n",
    "\n",
    "u_valeur = numpy.empty_like(dt1_valeur,dtype=numpy.ndarray)\n",
    "\n",
    "for i, t in enumerate(dt1_valeur):\n",
    "    \n",
    "    N = int(T/t) + 1  \n",
    "    u = numpy.zeros((N, 4))\n",
    "    u[0] = numpy.array([x0,y0,vx0,vy0])\n",
    "    \n",
    "    for n in range(0,N-1):\n",
    "\n",
    "        u[n+1] = rk4(u[n],f,t)     \n",
    "    \n",
    "    u_valeur[i] = u\n",
    "        \n",
    "\n",
    "        \n",
    "diffgrid2[0] = get_diffgrid(u_valeur[1], u_valeur[0], dt1_valeur[1])\n",
    "        \n",
    "diffgrid2[1] = get_diffgrid(u_valeur[2], u_valeur[1], dt1_valeur[2])\n",
    "        \n",
    "p = (log(diffgrid2[1]) - log(diffgrid2[0])) / log(r)\n",
    "print(p)"
   ]
  },
  {
   "cell_type": "markdown",
   "metadata": {},
   "source": [
    "Nous pouvons observer que pour des grands dt l'odre est celui attendu , c'est à dire 4 . Mais au plus le dt choisi est petit , au plus nos valeurs fluctuent."
   ]
  },
  {
   "cell_type": "markdown",
   "metadata": {
    "collapsed": true
   },
   "source": [
    "\n",
    "\n",
    "\n",
    "#Question 5\n",
    "\n",
    "Enoncé : \"Au moment du passage de la lune à l'appogée de sa trajectoire, un astéroïde traverse le centre de l'ellipse avec une vitesse $(v_x,v_y)=(-500{\\rm m/s},500 {\\rm m/s})$ (mesurée toujours par rapport à la terre). Modifier votre code numérique pour calculer la position de cet astéroïde après 14 jours. On suppose que l'astéroïde est dévié par le systeme Terre-Lune mais que celui-ci est trop léger pour modifier la trajectoire de la terre ou de la lune.\"\n",
    "\n"
   ]
  },
  {
   "cell_type": "markdown",
   "metadata": {},
   "source": [
    "Le système d’équations change un peu, car nous avons maintenant affaire à deux corps qui tournent\n",
    "dans le champ de gravité terrestre. Le système d’équations différentielles change donc aussi,\n",
    "puisqu’il faut y ajouter celles qui régissent le comportement des coordonnées de position et de\n",
    "vitesse de l’astéroïde."
   ]
  },
  {
   "cell_type": "markdown",
   "metadata": {},
   "source": [
    "Nous réitérons le même procédé que pour la trajectoire de la lune. Cependant , notre vecteur $u$ aura ici 8 composantes, 4 pour celles de l'astéroïde et 4 pour celles de la lune qui évolueront parallèlement. \n",
    "L'astéroîde subit deux attractions : celle de la Lune et celle de la Terre. Nous écrivons cela comme suit :\n",
    "$$\\dot v_{x_{ast}} = \\frac{-Gm_Tx_{ast}}{(x_{ast}^2+y_{ast}^2)^{3/2}} -\\frac{-Gm_lx_{ast}}{((x_{ast}-x_l)^2+(y_{ast}-y_l)^2)^{3/2}}$$\n",
    "$$\\dot v_{y_{ast}} = \\frac{-Gm_Ty_{ast}}{(x_{ast}^2+y_{ast}^2)^{3/2}}-\\frac{-Gm_ly_{ast}}{((x_{ast}-x_l)^2+(y_{ast}-y_l)^2)^{3/2}}$$\n",
    "\n",
    "Notre vecteur $\\overrightarrow u $  est donc donné par $$\\overrightarrow u=\\begin{pmatrix} x_{ast} \\\\ y_{ast} \\\\ v_{x_ast} \\\\ v_{y_ast} \\\\ x_{lune} \\\\ y_{lune} \\\\ v_{xlune} \\\\ v_{ylune} \\end{pmatrix} $$\n",
    "et $$ \\overrightarrow u' = f(\\overrightarrow u) = \\begin{pmatrix} v_{xast} \\\\ v_{yast} \\\\ \\dot v_{xast} \\\\ \\dot {v_{y_{ast}}} \\\\ v_{xlune} \\\\ v_{ylune} \\\\ \\dot v_{xlune} \\\\ \\dot v_{ylune} \\end{pmatrix}$$"
   ]
  },
  {
   "cell_type": "code",
   "execution_count": 81,
   "metadata": {
    "collapsed": true
   },
   "outputs": [],
   "source": [
    "def g(u):\n",
    "    x=u[0]\n",
    "    y=u[1]\n",
    "    vx=u[2]\n",
    "    vy=u[3]\n",
    "    xl=u[4]\n",
    "    yl=u[5]\n",
    "    vlx=u[6]\n",
    "    vly=u[7]\n",
    "    return numpy.array([vx,vy,-G*mt*x/(x**2+y**2)**1.5-G*ml*(x-xl)/((x-xl)**2+(y-yl)**2)**1.5  , -G*mt*y/(x**2+y**2)**1.5-G*ml*(y-yl)/((x-xl)**2+(y-yl)**2)**1.5 , vlx, vly, -G*(mt+ml)*xl/((xl**2+yl**2)**(3/2)), -G*(mt+ml)*yl/((xl**2+yl**2)**(3/2))])\n",
    "\n",
    "# u est un 8-vecteur qui contient 2 couples de coordonnées de position\n",
    "# et deux couples de coordonnées de vitesse. Il correspond au membre de gauche\n",
    "# de notre second système d'EDO. f(u) est le 8-vecteur dérivé,\n",
    "# qui contient donc les expressions des vitesses et d'accélérations de la Lune et de l'astéroïde."
   ]
  },
  {
   "cell_type": "markdown",
   "metadata": {},
   "source": [
    "Ici, les conditions initiales de la Lune changent, car à l’instant (t0 = 0) l’astéroïde arrive en (0,0)\n",
    " avec la vitesse (-500,500) et au même instant la Lune est à l’apogée de sa trajectoire. Les conditions initiales\n",
    "pour le nouveau problème de Cauchy sont donc les coordonnées de position et de vitesse de la Lune,\n",
    "telles que si $(x(t0),y(t0))$ sont les coordonnées de position, $r(t0) = \\sqrt{(x(t_0)^2 + y(t_0)^2)} = max(r(t)) $ \n",
    "On calcule donc ces coordonnées en considérant l’indice M du maximum pour le vecteur des\n",
    "distances Terre-Lune, puis en itérant M+1 fois la fonction rk4 sur les conditions initiales du problème\n",
    "précédent. Le vecteur que nous obtenons est le vecteur position – vitesse correspondant à l’apogée\n",
    "de la trajectoire obtenue au 1 er problème. Remarquons que la nouvelle trajectoire sera la même que\n",
    "la précédente, puisque les conditions dynamiques de la Lune ne sont pas modifiée (on considère que\n",
    "l’astéroïde est de masse suffisamment petite pour ne pas influencer le mouvement de la Lune). Seule\n",
    "la chronologie des vecteurs position-vitesse peut changer."
   ]
  },
  {
   "cell_type": "code",
   "execution_count": 82,
   "metadata": {},
   "outputs": [],
   "source": [
    "M = numpy.argmax(ra)     #Indice de l'apogée de la Lune."
   ]
  },
  {
   "cell_type": "code",
   "execution_count": 83,
   "metadata": {},
   "outputs": [
    {
     "name": "stdout",
     "output_type": "stream",
     "text": [
      "[  4.04726233e+08   8.74550497e+02   2.21929533e-03  -9.70664834e+02]\n"
     ]
    }
   ],
   "source": [
    "#Conditions initiales de la Question 1:\n",
    "xl0 = -362600000.\n",
    "yl0 = 0.\n",
    "vlx0 = 0.\n",
    "vly0 = 1083.434974\n",
    "\n",
    "#Calcul des nouvelles conditions initiales de la Lune:\n",
    "v = numpy.array([xl0,yl0,vlx0,vly0])\n",
    "for n in range(0,M):\n",
    "    v = rk4(v,f,1)\n",
    "\n",
    "print(v)\n",
    "\n",
    "#v contient les coordonnées de position et de vitesse de la Lune lorsqu'elle est à son apogée."
   ]
  },
  {
   "cell_type": "code",
   "execution_count": 84,
   "metadata": {},
   "outputs": [],
   "source": [
    "#Conditions intiales de la Lune:\n",
    "\n",
    "xl0 = v[0]\n",
    "yl0 = v[1]\n",
    "vlx0 = v[2]\n",
    "vly0 = v[3]\n",
    "u_lune = numpy.array([xl0,yl0,vlx0,vly0])\n",
    "\n",
    "#Conditions initiales de l'astéroïde:\n",
    "xa0=a-362600000\n",
    "ya0=0\n",
    "vax0=-500.\n",
    "vay0=500.\n",
    "u_astre= numpy.array([xa0,ya0,vax0,vay0,xl0,yl0,vlx0,vly0])\n",
    "\n",
    "dt = 1\n",
    "N = int(T/dt) + 1\n",
    "\n",
    "#Création de N-vecteurs vides qui contiendront les points des trajectoires de la Lune et de l'astéroïde:\n",
    "xl = numpy.zeros(N)\n",
    "yl = numpy.zeros(N)\n",
    "xa = numpy.zeros(N)\n",
    "ya = numpy.zeros(N)\n",
    "\n",
    "for n in range(0,N):\n",
    "    u_astre = rk4(u_astre, g, dt)\n",
    "    xa[n] = u_astre[0]\n",
    "    ya[n] = u_astre[1]"
   ]
  },
  {
   "cell_type": "code",
   "execution_count": 99,
   "metadata": {},
   "outputs": [
    {
     "data": {
      "image/png": "[encoded data removed]",
      "text/plain": [
       "<matplotlib.figure.Figure at 0x1d38f281d68>"
      ]
     },
     "metadata": {},
     "output_type": "display_data"
    }
   ],
   "source": [
    "pyplot.figure(figsize=(10,10))\n",
    "pyplot.xlim(-10000000,30000000)\n",
    "pyplot.ylim(-10000000,10000000)\n",
    "pyplot.tick_params(axis='both', labelsize=14)\n",
    "pyplot.xlabel('x', fontsize=14)\n",
    "pyplot.ylabel('y', fontsize=14)\n",
    "pyplot.plot(xa,ya, 'k-');\n",
    "pyplot.show()"
   ]
  },
  {
   "cell_type": "markdown",
   "metadata": {},
   "source": [
    "Après avoir effectué le plot de la trajectoire pour l’astéroïde, nous remarquons d’abord que\n",
    "l’astéroïde suit un régime elliptique d’excentricité variable. En regardant la forme de cette ellipse,\n",
    "nous en déduisons que les valeurs de l’excentricité doivent s’étendre sur un intervalle de valeurs plus\n",
    "grandes que pour l’ellipse de la Lune, car cette dernière était plus « circulaire » que ne le sont les\n",
    "nouvelles courbes. Nous voyons ensuite qu’à un instant, l’astéroïde change de régime et suit une\n",
    "trajectoire hyperbolique. Nous en déduisons que les conditions dynamiques de l’astéroïde à cet\n",
    "instant sont telles que son excentricité devient supérieure ou égale à 1. L’astéroïde repart alors vers\n",
    "l’infini, sorti du champ de gravité Terre-Lune."
   ]
  },
  {
   "cell_type": "code",
   "execution_count": null,
   "metadata": {
    "collapsed": true
   },
   "outputs": [],
   "source": [
    "\n",
    "\n",
    "\n",
    "#Question 6\n",
    "\n",
    "\n"
   ]
  },
  {
   "cell_type": "code",
   "execution_count": 86,
   "metadata": {
    "collapsed": true
   },
   "outputs": [],
   "source": [
    "from matplotlib import animation\n",
    "from IPython.display import HTML"
   ]
  },
  {
   "cell_type": "markdown",
   "metadata": {},
   "source": [
    "Pour faire l’animation, nous construisons, en itérant rk4 un vecteur N2 x 8 contenant les trajectoires\n",
    "Lune et astéroïde. Nous introduisons la fonction init() utilisée dans le MOOC. Nous construisons\n",
    "ensuite une fonction trajectoire_asteroïde() qui prend comme argument un indice i prenant une\n",
    "valeur entre 1 et N2, et qui insère les ièmes coordonnées de position de l’astéroïde dans la ligne de\n",
    "données ‘line’. Cette fonction est appelée par la fonction func à chaque itération de cette dernière,\n",
    "les itérations étant séparées par un intervalle de temps (réel) de 10 ms."
   ]
  },
  {
   "cell_type": "code",
   "execution_count": 103,
   "metadata": {},
   "outputs": [],
   "source": [
    "\n",
    "\n",
    "dt2 = 20000\n",
    "N2 = int(T/dt)+1\n",
    "\n",
    "U = numpy.empty((N2,8))\n",
    "U[0,:] = numpy.array([xa0,ya0,vax0,vay0,xl0,yl0,vlx0,vly0])\n",
    "\n",
    "for n in range(N2-1):\n",
    "\n",
    "    U[n+1,:] = rk4(U[n,:],g,dt2)\n",
    "    \n",
    "def init():\n",
    "    line.set_data([],[])\n",
    "    return line"
   ]
  },
  {
   "cell_type": "code",
   "execution_count": 106,
   "metadata": {
    "collapsed": true
   },
   "outputs": [],
   "source": [
    "fig = pyplot.figure(figsize = (10,10))\n",
    "ax = pyplot.axes(xlim = (-500000000,500000000), ylim = (-500000000,500000000))\n",
    "line = ax.plot([],[],'bo--')[0]"
   ]
  },
  {
   "cell_type": "code",
   "execution_count": 107,
   "metadata": {
    "collapsed": true
   },
   "outputs": [],
   "source": [
    "#Fonction servant à l'animation de l'astéroïde seulement:\n",
    "def trajectoire_lune(i):\n",
    "    line.set_data(U[i][0],U[i][1])\n",
    "    return line"
   ]
  },
  {
   "cell_type": "code",
   "execution_count": 108,
   "metadata": {},
   "outputs": [
    {
     "data": {
      "image/png": "[encoded data removed]",
      "text/plain": [
       "<matplotlib.figure.Figure at 0x1d388c965f8>"
      ]
     },
     "metadata": {},
     "output_type": "display_data"
    }
   ],
   "source": [
    "anim = animation.FuncAnimation(fig,trajectoire_astéroïde, init_func = init,frames = N2, interval = 100)\n",
    "pyplot.show()"
   ]
  },
  {
   "cell_type": "code",
   "execution_count": null,
   "metadata": {},
   "outputs": [],
   "source": [
    "HTML(anim.to_html5_video())"
   ]
  },
  {
   "cell_type": "code",
   "execution_count": null,
   "metadata": {
    "collapsed": true
   },
   "outputs": [],
   "source": [
    "def init2():\n",
    "    line2.set_data([],[])\n",
    "    return line2"
   ]
  },
  {
   "cell_type": "code",
   "execution_count": null,
   "metadata": {
    "collapsed": true
   },
   "outputs": [],
   "source": [
    "#Fonction servant à l'animation de la Lune seulement:\n",
    "def trajectoire_Lune(i):\n",
    "    line2.set_data(U[i,0],U[i,1])\n",
    "    return line2"
   ]
  },
  {
   "cell_type": "code",
   "execution_count": null,
   "metadata": {
    "collapsed": true
   },
   "outputs": [],
   "source": [
    "def init3():\n",
    "    line3.set_data([],[])\n",
    "    return line3"
   ]
  },
  {
   "cell_type": "code",
   "execution_count": null,
   "metadata": {
    "collapsed": true
   },
   "outputs": [],
   "source": [
    "#Fonction servant à l'animation del'astéroïde et dela Lune simultanément:\n",
    "def trajectoire_astres(i):\n",
    "    line3.set_data([U[i,0],U[i,4]],[U[i,1],U[i,5]])\n",
    "    return line3"
   ]
  },
  {
   "cell_type": "markdown",
   "metadata": {
    "collapsed": true
   },
   "source": []
  }
 ],
 "metadata": {
  "kernelspec": {
   "display_name": "Python 3",
   "language": "python",
   "name": "python3"
  },
  "language_info": {
   "codemirror_mode": {
    "name": "ipython",
    "version": 3
   },
   "file_extension": ".py",
   "mimetype": "text/x-python",
   "name": "python",
   "nbconvert_exporter": "python",
   "pygments_lexer": "ipython3",
   "version": "3.6.2"
  }
 },
 "nbformat": 4,
 "nbformat_minor": 2
}
